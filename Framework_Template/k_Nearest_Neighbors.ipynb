{
 "cells": [
  {
   "cell_type": "markdown",
   "metadata": {},
   "source": [
    "This is just a notebook that record my learning progress.\n",
    "\n",
    "## k-Nearest Neighbors\n",
    "\n",
    "- Pros: high accuracy, insensitive to outliers, no assumptions about data\n",
    "- Cons: computationally expensive, requires a lot of memory\n",
    "- Works with: numerical values, nominal values\n",
    "\n",
    "\n",
    "**General Approach to kNN:**\n",
    "  1. Collect Data\n",
    "  2. Prepare: Numeric values are needed for a distance calculation. A structured data format is best.\n",
    "  3. Analyze the Data\n",
    "  4. Train: Does not apply to the kNN algorithm\n",
    "  5. Test: Calculate the error rate\n",
    "  6. Use: This application needs to get some input data and output structured numeric values. Next, the application runs the kNN algorithm on this input data and determines which class the input data should belong to. The application then takes some action on the calculated class.\n",
    "\n"
   ]
  },
  {
   "cell_type": "code",
   "execution_count": 8,
   "metadata": {},
   "outputs": [],
   "source": [
    "import numpy as np\n",
    "import operator\n",
    "from os import listdir"
   ]
  },
  {
   "cell_type": "code",
   "execution_count": 9,
   "metadata": {},
   "outputs": [],
   "source": [
    "def classify0(input_vec, dataset, labels, k): \n",
    "    ##input_vec ~ 'input vector', dataset ~ 'full matrix of examples', labels ~ 'a vector of labels', k ~ 'the number of nearest neighbors in the voting'\n",
    "    \n",
    "    ##Part1 distance calculation and sort\n",
    "    dataset_size = dataset.shape[0]\n",
    "    diff_mat     = tile(input_vec, (dataset_size,1)) - dataset\n",
    "    sq_diff_mat  = diff_mat ** 2\n",
    "    sq_distance  = sq_diff_mat.sum(axis = 1)\n",
    "    distance     = sq_distance ** 0.5\n",
    "    sort_dis_ind = distance.argsort()\n",
    "    \n",
    "    ## voting with lowest k distances\n",
    "    class_count = {}\n",
    "    for i in range(k):\n",
    "        vote_label = labels[sort_dis_ind[i]]\n",
    "        class_count[vote_label] = class_count.get(vote_label, 0) + 1\n",
    "    \n",
    "    ## sort the voting results\n",
    "    sort_class_count = sorted(class_count.iteritems(), key = operator.itemgetter(1), reverse=True)\n",
    "    \n",
    "    return sort_class_count"
   ]
  },
  {
   "cell_type": "markdown",
   "metadata": {},
   "source": [
    "Now we will test with a simple instance:"
   ]
  },
  {
   "cell_type": "code",
   "execution_count": 10,
   "metadata": {},
   "outputs": [],
   "source": [
    "def createDataset():\n",
    "    group = np.array([[1.0,1.1],[1.0,1.0],[0,0],[0,0.1]])\n",
    "    labels = ['A','A','B','B'] \n",
    "    return group, labels"
   ]
  },
  {
   "cell_type": "code",
   "execution_count": 11,
   "metadata": {},
   "outputs": [],
   "source": [
    "group, labels = createDataSet()"
   ]
  },
  {
   "cell_type": "code",
   "execution_count": 12,
   "metadata": {},
   "outputs": [
    {
     "data": {
      "text/plain": [
       "(array([[1. , 1.1],\n",
       "        [1. , 1. ],\n",
       "        [0. , 0. ],\n",
       "        [0. , 0.1]]), ['A', 'A', 'B', 'B'])"
      ]
     },
     "execution_count": 12,
     "metadata": {},
     "output_type": "execute_result"
    }
   ],
   "source": [
    "group, labels"
   ]
  },
  {
   "cell_type": "code",
   "execution_count": 13,
   "metadata": {},
   "outputs": [],
   "source": [
    "import matplotlib.pyplot as plt"
   ]
  },
  {
   "cell_type": "code",
   "execution_count": 14,
   "metadata": {},
   "outputs": [
    {
     "data": {
      "image/png": "[encoded data removed]",
      "text/plain": [
       "<matplotlib.figure.Figure at 0x10c559630>"
      ]
     },
     "metadata": {},
     "output_type": "display_data"
    }
   ],
   "source": [
    "plt.scatter(group, label = labels)\n",
    "plt.show()"
   ]
  },
  {
   "cell_type": "code",
   "execution_count": null,
   "metadata": {},
   "outputs": [],
   "source": []
  }
 ],
 "metadata": {
  "kernelspec": {
   "display_name": "Python 3",
   "language": "python",
   "name": "python3"
  },
  "language_info": {
   "codemirror_mode": {
    "name": "ipython",
    "version": 3
   },
   "file_extension": ".py",
   "mimetype": "text/x-python",
   "name": "python",
   "nbconvert_exporter": "python",
   "pygments_lexer": "ipython3",
   "version": "3.6.4"
  }
 },
 "nbformat": 4,
 "nbformat_minor": 2
}
